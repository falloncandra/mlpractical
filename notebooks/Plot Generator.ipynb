{
 "cells": [
  {
   "cell_type": "code",
   "execution_count": 192,
   "metadata": {},
   "outputs": [],
   "source": [
    "import numpy as np\n",
    "import matplotlib as plt\n",
    "import os\n",
    "import pickle"
   ]
  },
  {
   "cell_type": "code",
   "execution_count": 193,
   "metadata": {},
   "outputs": [],
   "source": [
    "EVAL_DIR = '../evaluations'"
   ]
  },
  {
   "cell_type": "code",
   "execution_count": 194,
   "metadata": {},
   "outputs": [],
   "source": [
    "inputs = [\n",
    "    ('lr=1','100-unit-1-Hidden-Layer-Networks-100-dummy.pickle'),\n",
    "    ('lr=2','100-unit-1-Hidden-Layer-Networks-100-dummy.pickle'),\n",
    "    ('lr=3','100-unit-1-Hidden-Layer-Networks-100-dummy.pickle'),\n",
    "    ('lr=4','100-unit-1-Hidden-Layer-Networks-100-dummy.pickle')\n",
    "]"
   ]
  },
  {
   "cell_type": "code",
   "execution_count": 195,
   "metadata": {},
   "outputs": [],
   "source": [
    "eval_list = []\n",
    "for info, eval_path in inputs:\n",
    "    with open(os.path.join(EVAL_DIR, eval_path), 'rb') as f:\n",
    "        eval_list.append((info, pickle.load(f)))"
   ]
  },
  {
   "cell_type": "code",
   "execution_count": 196,
   "metadata": {},
   "outputs": [],
   "source": [
    "interval = 10"
   ]
  },
  {
   "cell_type": "code",
   "execution_count": 213,
   "metadata": {},
   "outputs": [
    {
     "data": {
      "text/plain": [
       "(9,)"
      ]
     },
     "execution_count": 213,
     "metadata": {},
     "output_type": "execute_result"
    }
   ],
   "source": [
    " (np.arange(1, 10) * 10).shape"
   ]
  },
  {
   "cell_type": "code",
   "execution_count": 197,
   "metadata": {},
   "outputs": [
    {
     "name": "stdout",
     "output_type": "stream",
     "text": [
      "[False  True False  True False  True False  True  True]\n"
     ]
    },
    {
     "ename": "IndexError",
     "evalue": "boolean index did not match indexed array along dimension 0; dimension is 10 but corresponding boolean dimension is 9",
     "output_type": "error",
     "traceback": [
      "\u001b[0;31m---------------------------------------------------------------------------\u001b[0m",
      "\u001b[0;31mIndexError\u001b[0m                                Traceback (most recent call last)",
      "\u001b[0;32m<ipython-input-197-440f9f329029>\u001b[0m in \u001b[0;36m<module>\u001b[0;34m\u001b[0m\n\u001b[1;32m      4\u001b[0m \u001b[0mpicked_idx\u001b[0m\u001b[0;34m[\u001b[0m\u001b[0;34m-\u001b[0m\u001b[0;36m1\u001b[0m\u001b[0;34m]\u001b[0m \u001b[0;34m=\u001b[0m \u001b[0;32mTrue\u001b[0m\u001b[0;34m\u001b[0m\u001b[0;34m\u001b[0m\u001b[0m\n\u001b[1;32m      5\u001b[0m \u001b[0mprint\u001b[0m\u001b[0;34m(\u001b[0m\u001b[0mpicked_idx\u001b[0m\u001b[0;34m)\u001b[0m\u001b[0;34m\u001b[0m\u001b[0;34m\u001b[0m\u001b[0m\n\u001b[0;32m----> 6\u001b[0;31m \u001b[0mnd\u001b[0m \u001b[0;34m=\u001b[0m \u001b[0mnn\u001b[0m\u001b[0;34m[\u001b[0m\u001b[0mpicked_idx\u001b[0m\u001b[0;34m]\u001b[0m\u001b[0;34m\u001b[0m\u001b[0;34m\u001b[0m\u001b[0m\n\u001b[0m\u001b[1;32m      7\u001b[0m \u001b[0mprint\u001b[0m\u001b[0;34m(\u001b[0m\u001b[0mnd\u001b[0m\u001b[0;34m)\u001b[0m\u001b[0;34m\u001b[0m\u001b[0;34m\u001b[0m\u001b[0m\n\u001b[1;32m      8\u001b[0m \u001b[0mnp\u001b[0m\u001b[0;34m.\u001b[0m\u001b[0mwhere\u001b[0m\u001b[0;34m(\u001b[0m\u001b[0mpicked_idx\u001b[0m\u001b[0;34m)\u001b[0m\u001b[0;34m\u001b[0m\u001b[0;34m\u001b[0m\u001b[0m\n",
      "\u001b[0;31mIndexError\u001b[0m: boolean index did not match indexed array along dimension 0; dimension is 10 but corresponding boolean dimension is 9"
     ]
    }
   ],
   "source": [
    "nn = np.array([2, 3, 4, 5, 2, 4, 5, 6, 7, 6])\n",
    "# nn[np.arange(1, len(nn)) % 2 == 0]\n",
    "picked_idx = np.arange(1, len(nn)) % 2 == 0\n",
    "picked_idx[-1] = True\n",
    "print(picked_idx)\n",
    "nd = nn[picked_idx]\n",
    "print(nd)\n",
    "np.where(picked_idx)"
   ]
  },
  {
   "cell_type": "code",
   "execution_count": 221,
   "metadata": {},
   "outputs": [],
   "source": [
    "import numpy as np\n",
    "import matplotlib as mpl\n",
    "import matplotlib.pyplot as plt\n",
    "\n",
    "def plot_combined(eval_list, interval):        \n",
    "    colors = ['r', 'g', 'b', 'm']\n",
    "    dashes = [\n",
    "        '.',\n",
    "#         [2, 2, 10, 2], \n",
    "        [6, 2]\n",
    "    ]\n",
    "    mark_size = 1\n",
    "    fig, ax = plt.subplots(nrows=1, ncols=1, sharex=True,figsize=(6, 6))\n",
    "    \n",
    "    for c_idx, (info, (stats, keys, run_time)) in enumerate(eval_list):\n",
    "        picked_idx = np.arange(1, stats.shape[0]) % interval == 0\n",
    "        picked_idx[-1] = True\n",
    "        picked_stats = stats[1:][picked_idx]\n",
    "        picked_stats_idx = np.squeeze(np.where(picked_idx))\n",
    "        \n",
    "        print(picked_stats)\n",
    "        print(picked_stats_idx)\n",
    "                               \n",
    "        for d_idx, k in enumerate(['error(train)', 'error(valid)']):\n",
    "            if k == 'error(train)':\n",
    "                ax.plot(\n",
    "#                       np.arange(1, stats.shape[0]) * stats_interval, \n",
    "#                       stats[1:, keys[k]], \n",
    "                    picked_stats_idx,\n",
    "                    picked_stats[:, keys[k]],  \n",
    "                    label=f'{k}, {info}',\n",
    "#                       dashes=dashes[d_idx],\n",
    "                    marker=\"+\",\n",
    "                    linestyle=\"None\",\n",
    "                      color=colors[c_idx],\n",
    "                      markersize=mark_size \n",
    "                )\n",
    "            print(np.arange(1, 10) * 10)\n",
    "            print(stats[1: keys[k]])\n",
    "#             else:\n",
    "                \n",
    "\n",
    "    ax.legend(loc='best')\n",
    "\n",
    "    plt.ylabel('Cross-entropy error')\n",
    "    plt.xlabel('Epoch number')\n",
    "\n",
    "#   plt.show()\n",
    "\n",
    "    plt.show()\n",
    "#   ax.set_title('testing')\n",
    "#   ax.plot(x, y1, marker=\"+\", markersize=mark_size, linestyle=\"None\", color=\"g\", label='err(train),lr=0.1')\n",
    "#   ax.plot(x, y2, marker=\"+\", markersize=mark_size, linestyle=\"None\", color=\"b\", label='err(train),lr=0.2')\n",
    "#   ax.plot(x, y3, marker=\"+\", markersize=mark_size, linestyle=\"None\", color=\"r\", label='err(train),lr=0.3')\n",
    "#   ax.plot(x, y4, dashes=[2, 2, 10, 2], color=\"g\", label='err(val),lr=0.1')\n",
    "#   ax.plot(x, y5, dashes=[2, 2, 10, 2], color=\"b\", label='err(val),lr=0.2')\n",
    "#   ax.plot(x, y6, dashes=[2, 2, 10, 2], color=\"r\", label='err(val),lr=0.3')\n",
    "\n",
    "#   ax.legend()\n",
    "\n",
    "#   plt.ylabel('Error')\n",
    "#   plt.xlabel('Epoch')\n",
    "\n",
    "#   plt.show()\n",
    "\n",
    "\n"
   ]
  },
  {
   "cell_type": "code",
   "execution_count": 222,
   "metadata": {},
   "outputs": [
    {
     "name": "stdout",
     "output_type": "stream",
     "text": [
      "[[0.38436147 0.86642    0.52065889 0.83075949]\n",
      " [0.31243168 0.88414    0.54952417 0.83012658]\n",
      " [0.25686129 0.90231    0.60380976 0.82905063]\n",
      " [0.22631184 0.91036    0.68174529 0.8214557 ]\n",
      " [0.19502907 0.92267    0.74792782 0.82139241]\n",
      " [0.18034327 0.92728    0.83496448 0.81772152]\n",
      " [0.16735    0.93124    0.90867555 0.82075949]\n",
      " [0.16418746 0.9332     1.01567152 0.81367089]\n",
      " [0.15023522 0.93728    1.11742217 0.81044304]\n",
      " [0.14969727 0.93772    1.2055501  0.81056962]]\n",
      "[ 9 19 29 39 49 59 69 79 89 99]\n",
      "[10 20 30 40 50 60 70 80 90]\n",
      "[]\n",
      "[10 20 30 40 50 60 70 80 90]\n",
      "[[0.82097247 0.75186    0.83895629 0.74436709]]\n",
      "[[0.38436147 0.86642    0.52065889 0.83075949]\n",
      " [0.31243168 0.88414    0.54952417 0.83012658]\n",
      " [0.25686129 0.90231    0.60380976 0.82905063]\n",
      " [0.22631184 0.91036    0.68174529 0.8214557 ]\n",
      " [0.19502907 0.92267    0.74792782 0.82139241]\n",
      " [0.18034327 0.92728    0.83496448 0.81772152]\n",
      " [0.16735    0.93124    0.90867555 0.82075949]\n",
      " [0.16418746 0.9332     1.01567152 0.81367089]\n",
      " [0.15023522 0.93728    1.11742217 0.81044304]\n",
      " [0.14969727 0.93772    1.2055501  0.81056962]]\n",
      "[ 9 19 29 39 49 59 69 79 89 99]\n",
      "[10 20 30 40 50 60 70 80 90]\n",
      "[]\n",
      "[10 20 30 40 50 60 70 80 90]\n",
      "[[0.82097247 0.75186    0.83895629 0.74436709]]\n",
      "[[0.38436147 0.86642    0.52065889 0.83075949]\n",
      " [0.31243168 0.88414    0.54952417 0.83012658]\n",
      " [0.25686129 0.90231    0.60380976 0.82905063]\n",
      " [0.22631184 0.91036    0.68174529 0.8214557 ]\n",
      " [0.19502907 0.92267    0.74792782 0.82139241]\n",
      " [0.18034327 0.92728    0.83496448 0.81772152]\n",
      " [0.16735    0.93124    0.90867555 0.82075949]\n",
      " [0.16418746 0.9332     1.01567152 0.81367089]\n",
      " [0.15023522 0.93728    1.11742217 0.81044304]\n",
      " [0.14969727 0.93772    1.2055501  0.81056962]]\n",
      "[ 9 19 29 39 49 59 69 79 89 99]\n",
      "[10 20 30 40 50 60 70 80 90]\n",
      "[]\n",
      "[10 20 30 40 50 60 70 80 90]\n",
      "[[0.82097247 0.75186    0.83895629 0.74436709]]\n",
      "[[0.38436147 0.86642    0.52065889 0.83075949]\n",
      " [0.31243168 0.88414    0.54952417 0.83012658]\n",
      " [0.25686129 0.90231    0.60380976 0.82905063]\n",
      " [0.22631184 0.91036    0.68174529 0.8214557 ]\n",
      " [0.19502907 0.92267    0.74792782 0.82139241]\n",
      " [0.18034327 0.92728    0.83496448 0.81772152]\n",
      " [0.16735    0.93124    0.90867555 0.82075949]\n",
      " [0.16418746 0.9332     1.01567152 0.81367089]\n",
      " [0.15023522 0.93728    1.11742217 0.81044304]\n",
      " [0.14969727 0.93772    1.2055501  0.81056962]]\n",
      "[ 9 19 29 39 49 59 69 79 89 99]\n",
      "[10 20 30 40 50 60 70 80 90]\n",
      "[]\n",
      "[10 20 30 40 50 60 70 80 90]\n",
      "[[0.82097247 0.75186    0.83895629 0.74436709]]\n"
     ]
    },
    {
     "data": {
      "image/png": "[encoded data removed]",
      "text/plain": [
       "<Figure size 432x432 with 1 Axes>"
      ]
     },
     "metadata": {
      "needs_background": "light"
     },
     "output_type": "display_data"
    }
   ],
   "source": [
    "plot_combined(eval_list, 10)"
   ]
  },
  {
   "cell_type": "code",
   "execution_count": 200,
   "metadata": {},
   "outputs": [],
   "source": [
    "import numpy as np\n",
    "import matplotlib as mpl\n",
    "import matplotlib.pyplot as plt\n",
    "\n",
    "def test_function(y1, y2, y3):\n",
    "\n",
    "  x = np.arange(0.1, 8.1, 1)\n",
    "\n",
    "  y4 = y1 - 0.6\n",
    "  y5 = y2 - 0.6\n",
    "  y6 = y3 - 0.6\n",
    "\n",
    "  fig, ax = plt.subplots(nrows=1, ncols=1, sharex=True,\n",
    "                                      figsize=(6, 6))\n",
    "  \n",
    "  mark_size = 7\n",
    "\n",
    "  ax.set_title('testing')\n",
    "  ax.plot(x, y1, marker=\"+\", markersize=mark_size, linestyle=\"None\", color=\"g\", label='err(train),lr=0.1')\n",
    "  ax.plot(x, y2, marker=\"+\", markersize=mark_size, linestyle=\"None\", color=\"b\", label='err(train),lr=0.2')\n",
    "  ax.plot(x, y3, marker=\"+\", markersize=mark_size, linestyle=\"None\", color=\"r\", label='err(train),lr=0.3')\n",
    "  ax.plot(x, y4, dashes=[2, 2, 10, 2], color=\"g\", label='err(val),lr=0.1')\n",
    "  ax.plot(x, y5, dashes=[2, 2, 10, 2], color=\"b\", label='err(val),lr=0.2')\n",
    "  ax.plot(x, y6, dashes=[2, 2, 10, 2], color=\"r\", label='err(val),lr=0.3')\n",
    "\n",
    "  ax.legend()\n",
    "\n",
    "  plt.ylabel('Error')\n",
    "  plt.xlabel('Epoch')\n",
    "\n",
    "  plt.show()\n",
    "\n",
    "\n"
   ]
  },
  {
   "cell_type": "code",
   "execution_count": 15,
   "metadata": {},
   "outputs": [
    {
     "data": {
      "image/png": "[encoded data removed]",
      "text/plain": [
       "<Figure size 432x432 with 1 Axes>"
      ]
     },
     "metadata": {
      "needs_background": "light"
     },
     "output_type": "display_data"
    }
   ],
   "source": [
    "xt = np.arange(0.1, 8.1, 1)\n",
    "\n",
    "testy1 = 3 * np.exp(-0.6 * xt)\n",
    "testy2 = testy1 - 0.1\n",
    "testy3 = testy1 - 0.2\n",
    "\n",
    "test_function(testy1, testy2, testy3)"
   ]
  },
  {
   "cell_type": "code",
   "execution_count": null,
   "metadata": {},
   "outputs": [],
   "source": []
  }
 ],
 "metadata": {
  "kernelspec": {
   "display_name": "Python 3",
   "language": "python",
   "name": "python3"
  },
  "language_info": {
   "codemirror_mode": {
    "name": "ipython",
    "version": 3
   },
   "file_extension": ".py",
   "mimetype": "text/x-python",
   "name": "python",
   "nbconvert_exporter": "python",
   "pygments_lexer": "ipython3",
   "version": "3.8.5"
  }
 },
 "nbformat": 4,
 "nbformat_minor": 4
}
